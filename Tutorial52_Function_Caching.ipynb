{
  "nbformat": 4,
  "nbformat_minor": 0,
  "metadata": {
    "colab": {
      "name": "Tutorial52_Function-Caching.ipynb",
      "provenance": [],
      "authorship_tag": "ABX9TyOW3qgdUo2vgEofPeOUVsq7",
      "include_colab_link": true
    },
    "kernelspec": {
      "name": "python3",
      "display_name": "Python 3"
    }
  },
  "cells": [
    {
      "cell_type": "markdown",
      "metadata": {
        "id": "view-in-github",
        "colab_type": "text"
      },
      "source": [
        "<a href=\"https://colab.research.google.com/github/Shambhavi-Gupta/Tutorial52_Function-Caching/blob/main/Tutorial52_Function_Caching.ipynb\" target=\"_parent\"><img src=\"https://colab.research.google.com/assets/colab-badge.svg\" alt=\"Open In Colab\"/></a>"
      ]
    },
    {
      "cell_type": "code",
      "metadata": {
        "id": "YuqK2p3r2KD0"
      },
      "source": [
        "import time\r\n",
        "from functools import lru_cache\r\n",
        "@lru_cache(maxsize=3)\r\n",
        "def a_one(s):\r\n",
        "    time.sleep(s)\r\n",
        "    return s\r\n",
        "\r\n",
        "if __name__ == '__main__':\r\n",
        "    print(\"first function\")\r\n",
        "    a_one(3)\r\n",
        "    print(\"Finished\")\r\n",
        "    a_one(3)\r\n",
        "    print(\"Finally finished\")"
      ],
      "execution_count": null,
      "outputs": []
    }
  ]
}